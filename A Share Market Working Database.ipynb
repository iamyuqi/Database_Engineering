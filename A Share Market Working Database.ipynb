{
 "cells": [
  {
   "cell_type": "markdown",
   "metadata": {
    "slideshow": {
     "slide_type": "notes"
    }
   },
   "source": [
    "# FE512 - Final Report\n",
    "### A Share Market Working Database\n",
    "Instructor: Olorundamilola ’Dami’ Kazeem <br>\n",
    "Group 12: Yuqi Liu, Chang Liu"
   ]
  },
  {
   "cell_type": "markdown",
   "metadata": {
    "slideshow": {
     "slide_type": "notes"
    }
   },
   "source": [
    "## Abstract\n",
    "\n",
    "__A share market__, where shares are denominated as Renminbi, includes Shanghai and Shenzhen stock exchanges. As the world’s second largest stock market, it has whole bunch of data worth to summarize and explore. By implementing the practical database engineering techniques, the team aims to design and build a __working database__ that equip with functions of information management, data computing and decision support. In this report, we focus on using __mongodb__ to build a __NoSql__ database, answering proposed questions about segments and industries of the market, as well as integrating with python libraries to achieve analysis functions, for example moving average visualization. In conclusion, our working database can help to better understand the stock market, effectively extract useful information, and make futher analysis as need."
   ]
  },
  {
   "cell_type": "markdown",
   "metadata": {
    "slideshow": {
     "slide_type": "notes"
    }
   },
   "source": [
    "## Catalogue\n",
    "> - Introduction\n",
    "- Data Source\n",
    "- Database Design\n",
    "- Data Summary\n",
    "- Proposed Questions, Queries & Outputs\n",
    "- Conclusions\n",
    "- Future Study\n",
    "- Reference"
   ]
  },
  {
   "cell_type": "markdown",
   "metadata": {
    "slideshow": {
     "slide_type": "notes"
    }
   },
   "source": [
    "## Introduction\n",
    "To most of stock market investors, industry research has always been important. While for a stock market containing more than three thousand stocks, and each stock releases financial data each quarter, its data amount and value should not be underestimated. A working database can help market researchers easy to implement data mining, so that to perform quantitative analysis that can help decision making. <br>\n",
    "<br>\n",
    "As long as the market and financial data are time series data, it is rational for database desinger to choose NoSql database. Mongodb, as a leading NoSQL database, can store data in BSON. It has advantage of simpler query, simple structure, and more flexibility. In this project, the team generated data from CSMAR with 4 csv files, and aims to design database structure, answer proposed questions by queries and visualize extracted data. For further study, the team will investigae on mapreduce, so that to deal with complicated statistics and aggregation operations that takes a long time."
   ]
  },
  {
   "cell_type": "markdown",
   "metadata": {
    "slideshow": {
     "slide_type": "fragment"
    }
   },
   "source": [
    "## Introduction - Topic\n",
    "\n",
    ">-  Design and build a working database for research on China stock market\n",
    "-  Equip with function of information retrieval and management\n",
    "-  Integrate with data computing and decision support"
   ]
  },
  {
   "cell_type": "markdown",
   "metadata": {
    "slideshow": {
     "slide_type": "slide"
    }
   },
   "source": [
    "## Introduction - Research Questions\n",
    ">1. How many normal trading stocks and industries on A shares?\n",
    "2. How many listed companies which are normal trading in each major industries?\n",
    "3. Which segements realized high net profit in the first quarter of this year?\n",
    "4. Which industries have maintained a high market value during the past three years?\n",
    "5. What's the moving average look like for single stock's close price?"
   ]
  },
  {
   "cell_type": "markdown",
   "metadata": {
    "slideshow": {
     "slide_type": "slide"
    }
   },
   "source": [
    "## Data Source\n",
    "The data in this project were downloaded from the China Stock Market & Accounting Research ([CSMAR](http://cn.gtadata.com/)) Database. There are four csv files attached with the report: TRD_Co.csv, fin_mkt.csv, fs_comins and fs_combas, which are A shares 2012 - 2018 stock information data, daily market data and quarterly financial data (income statement and balance sheet).\n",
    "![CSMAR.png](https://i.postimg.cc/Zn0w1bh1/CSMAR.png) <br>The detail documents of each collection will be introduced in the Database Design and Data Summary sections."
   ]
  },
  {
   "cell_type": "markdown",
   "metadata": {
    "slideshow": {
     "slide_type": "slide"
    }
   },
   "source": [
    "## Database Design - Tree Structure\n",
    "Because of the property of our time series data, the team decide to use NoSql database. A tree Structure is ploted below.\n",
    "![data-Model.png](https://i.postimg.cc/FsM0FMf5/Tree-Structure.png)<br>\n",
    "There are four collections: Stock Info, Market data, Balance sheet and Income statement. Stock info is the main collection and the team will mainly investigate on the industry code under it. All of the collections include stock id field, which is the securities code, similar to ticker. Since each collections have a plenty of fields, the tree structure only shows fields that will be used in the project. For stock info, we mainly focus on industry code, list date and status. For Market data, trade date, close price, daily return and market equity are included. Balance sheet and income statement both have report type and report date. Equity is under balance sheet and net profit is under income statement. The following sections introduce the explanation of each fields."
   ]
  },
  {
   "cell_type": "markdown",
   "metadata": {
    "slideshow": {
     "slide_type": "slide"
    }
   },
   "source": [
    "## Database Design - Collection explanation (Stock Info)\n",
    "- Stock Code: The securities code published by the Shanghai Stock Exchange and the Shenzhen Stock Exchange. <br>\n",
    "- Industry Code: the CSRC(China Security Regulatory Commission) industry classification code in 2012 version. <br>\n",
    "- List Date: Expressed by YYYY-MM-DD, the date of listing of the stock. <br>\n",
    "- Status: A = normal trading, D = termination of listing, S = suspension of listing, N = suspension of trading."
   ]
  },
  {
   "cell_type": "markdown",
   "metadata": {
    "slideshow": {
     "slide_type": "slide"
    }
   },
   "source": [
    "## Database Design - Collection explanation (Market Data)\n",
    "- Stock Code: The securities code published by the Shanghai Stock Exchange and the Shenzhen Stock Exchange. <br>\n",
    "- Trade Date: Expressed as YYYY-MM-DD. <br>\n",
    "- Close Price: A shares are in RMB, Shanghai B is in US dollars, and Shenzhen B is in Hong Kong dollars. <br>\n",
    "- Daily Return: Daily stock return rate. <br>\n",
    "- Market Equity: The product of total number of shares issued and the closing price of each stock, A shares in RMB, Shanghai B shares in US dollars, Shenzhen B shares in Hong Kong dollars, The unit is thousand."
   ]
  },
  {
   "cell_type": "markdown",
   "metadata": {
    "slideshow": {
     "slide_type": "slide"
    }
   },
   "source": [
    "## Database Design - Collection explanation (Balance Sheet)\n",
    "- Stock Code: The securities code published by the Shanghai Stock Exchange and the Shenzhen Stock Exchange. <br>\n",
    "- Report Date: YYYY-MM-DD, the first four digits indicate the fiscal year of the financial statements. <br>\n",
    "- Report Type: A=\"Consolidated Report\", B=\"Parent Report\". <br>\n",
    "- Equity: Total shareholders' equity."
   ]
  },
  {
   "cell_type": "markdown",
   "metadata": {
    "slideshow": {
     "slide_type": "slide"
    }
   },
   "source": [
    "## Database Design - Collection explanation (Income Statement) \n",
    "- Stock Code: The securities code published by the Shanghai Stock Exchange and the Shenzhen Stock Exchange. <br>\n",
    "- Report Date: YYYY-MM-DD, the first four digits indicate the fiscal year of the financial statements. <br>\n",
    "- Report Type: A=\"Consolidated Report\", B=\"Parent Report\". <br>\n",
    "- Net Profit: The net profit realized by the company."
   ]
  },
  {
   "cell_type": "markdown",
   "metadata": {
    "slideshow": {
     "slide_type": "slide"
    }
   },
   "source": [
    "## Data Summary\n",
    "In this part, the team first imports libraries and makes connection with MongoClient. Pymongo makes working with mongodb avaliable on python. Pandas helps to make BSON looked formal in the report. The four csv files were imported in the jupyter notebook terminal. ($ mongoimport --db fe512db --collection stockInfo --type csv --headerline --file C:\\Program Files\\MongoDB\\Server\\4.0\\bin\\TRD_Co.csv)."
   ]
  },
  {
   "cell_type": "code",
   "execution_count": 2,
   "metadata": {
    "slideshow": {
     "slide_type": "fragment"
    }
   },
   "outputs": [],
   "source": [
    "import pymongo\n",
    "import pandas as pd\n",
    "from pymongo import MongoClient\n",
    "client = MongoClient()\n",
    "db = client.final\n",
    "stockInfo = db.stockInfo\n",
    "marketData = db.finMkt\n",
    "balanceSheet = db.bs\n",
    "incomeStat = db.ins"
   ]
  },
  {
   "cell_type": "markdown",
   "metadata": {},
   "source": [
    "Show the imported collections in the database:"
   ]
  },
  {
   "cell_type": "code",
   "execution_count": 2,
   "metadata": {
    "scrolled": true,
    "slideshow": {
     "slide_type": "fragment"
    }
   },
   "outputs": [
    {
     "data": {
      "text/html": [
       "<div>\n",
       "<style scoped>\n",
       "    .dataframe tbody tr th:only-of-type {\n",
       "        vertical-align: middle;\n",
       "    }\n",
       "\n",
       "    .dataframe tbody tr th {\n",
       "        vertical-align: top;\n",
       "    }\n",
       "\n",
       "    .dataframe thead th {\n",
       "        text-align: right;\n",
       "    }\n",
       "</style>\n",
       "<table border=\"1\" class=\"dataframe\">\n",
       "  <thead>\n",
       "    <tr style=\"text-align: right;\">\n",
       "      <th></th>\n",
       "      <th>0</th>\n",
       "    </tr>\n",
       "  </thead>\n",
       "  <tbody>\n",
       "    <tr>\n",
       "      <th>0</th>\n",
       "      <td>bs</td>\n",
       "    </tr>\n",
       "    <tr>\n",
       "      <th>1</th>\n",
       "      <td>finMkt</td>\n",
       "    </tr>\n",
       "    <tr>\n",
       "      <th>2</th>\n",
       "      <td>stockInfo</td>\n",
       "    </tr>\n",
       "    <tr>\n",
       "      <th>3</th>\n",
       "      <td>ins</td>\n",
       "    </tr>\n",
       "  </tbody>\n",
       "</table>\n",
       "</div>"
      ],
      "text/plain": [
       "           0\n",
       "0         bs\n",
       "1     finMkt\n",
       "2  stockInfo\n",
       "3        ins"
      ]
     },
     "execution_count": 2,
     "metadata": {},
     "output_type": "execute_result"
    }
   ],
   "source": [
    "pd.DataFrame(db.list_collection_names())"
   ]
  },
  {
   "cell_type": "markdown",
   "metadata": {
    "slideshow": {
     "slide_type": "slide"
    }
   },
   "source": [
    "## Data Sets - Stock Info\n",
    "Use count_documents to get the total number of documents under stock info collection. There are 3741 records."
   ]
  },
  {
   "cell_type": "code",
   "execution_count": 3,
   "metadata": {
    "slideshow": {
     "slide_type": "fragment"
    }
   },
   "outputs": [
    {
     "data": {
      "text/plain": [
       "3741"
      ]
     },
     "execution_count": 3,
     "metadata": {},
     "output_type": "execute_result"
    }
   ],
   "source": [
    "stockInfo.count_documents({})"
   ]
  },
  {
   "cell_type": "markdown",
   "metadata": {
    "slideshow": {
     "slide_type": "fragment"
    }
   },
   "source": [
    "## Data Sets - Stock Info\n",
    "List the first 5 records of the collection. There are 29 fields in the collection."
   ]
  },
  {
   "cell_type": "code",
   "execution_count": 4,
   "metadata": {
    "scrolled": true,
    "slideshow": {
     "slide_type": "fragment"
    }
   },
   "outputs": [
    {
     "data": {
      "text/html": [
       "<div>\n",
       "<style scoped>\n",
       "    .dataframe tbody tr th:only-of-type {\n",
       "        vertical-align: middle;\n",
       "    }\n",
       "\n",
       "    .dataframe tbody tr th {\n",
       "        vertical-align: top;\n",
       "    }\n",
       "\n",
       "    .dataframe thead th {\n",
       "        text-align: right;\n",
       "    }\n",
       "</style>\n",
       "<table border=\"1\" class=\"dataframe\">\n",
       "  <thead>\n",
       "    <tr style=\"text-align: right;\">\n",
       "      <th></th>\n",
       "      <th>Commnt</th>\n",
       "      <th>Conme</th>\n",
       "      <th>Conme_en</th>\n",
       "      <th>Crcd</th>\n",
       "      <th>Cuntrycd</th>\n",
       "      <th>Curtrd</th>\n",
       "      <th>Estbdt</th>\n",
       "      <th>Favaldt</th>\n",
       "      <th>Indcd</th>\n",
       "      <th>Indnme</th>\n",
       "      <th>...</th>\n",
       "      <th>Nnindnme</th>\n",
       "      <th>Nshripo</th>\n",
       "      <th>Parval</th>\n",
       "      <th>Parvcur</th>\n",
       "      <th>Sctcd</th>\n",
       "      <th>Statco</th>\n",
       "      <th>Statdt</th>\n",
       "      <th>Stkcd</th>\n",
       "      <th>Stknme</th>\n",
       "      <th>_id</th>\n",
       "    </tr>\n",
       "  </thead>\n",
       "  <tbody>\n",
       "    <tr>\n",
       "      <th>0</th>\n",
       "      <td></td>\n",
       "      <td>深圳中国农大科技股份有限公司</td>\n",
       "      <td>Shenzhen Cau Technology Co., Ltd.</td>\n",
       "      <td></td>\n",
       "      <td>10</td>\n",
       "      <td>CNY</td>\n",
       "      <td>1986/5/5</td>\n",
       "      <td>1991/1/14</td>\n",
       "      <td>5</td>\n",
       "      <td>工业</td>\n",
       "      <td>...</td>\n",
       "      <td>医药制造业</td>\n",
       "      <td>12500</td>\n",
       "      <td>1.0</td>\n",
       "      <td>CNY</td>\n",
       "      <td>2</td>\n",
       "      <td>A</td>\n",
       "      <td>2018/5/31</td>\n",
       "      <td>4</td>\n",
       "      <td>国农科技</td>\n",
       "      <td>5bf58d7fbe3c4aa79d2b726d</td>\n",
       "    </tr>\n",
       "    <tr>\n",
       "      <th>1</th>\n",
       "      <td></td>\n",
       "      <td>深圳世纪星源股份有限公司</td>\n",
       "      <td>Shenzhen Fountain Corporation</td>\n",
       "      <td></td>\n",
       "      <td>10</td>\n",
       "      <td>CNY</td>\n",
       "      <td>1990/2/1</td>\n",
       "      <td>1990/12/10</td>\n",
       "      <td>2</td>\n",
       "      <td>公用事业</td>\n",
       "      <td>...</td>\n",
       "      <td>生态保护和环境治理业</td>\n",
       "      <td>44339</td>\n",
       "      <td>1.0</td>\n",
       "      <td>CNY</td>\n",
       "      <td>2</td>\n",
       "      <td>A</td>\n",
       "      <td>2018/5/31</td>\n",
       "      <td>5</td>\n",
       "      <td>世纪星源</td>\n",
       "      <td>5bf58d7fbe3c4aa79d2b726e</td>\n",
       "    </tr>\n",
       "    <tr>\n",
       "      <th>2</th>\n",
       "      <td></td>\n",
       "      <td>深圳市振业(集团)股份有限公司</td>\n",
       "      <td>Shenzhen Zhenye (Group) Co., Ltd.</td>\n",
       "      <td></td>\n",
       "      <td>10</td>\n",
       "      <td>CNY</td>\n",
       "      <td>1989/4/1</td>\n",
       "      <td>1992/4/27</td>\n",
       "      <td>3</td>\n",
       "      <td>房地产</td>\n",
       "      <td>...</td>\n",
       "      <td>房地产业</td>\n",
       "      <td>690</td>\n",
       "      <td>1.0</td>\n",
       "      <td>CNY</td>\n",
       "      <td>2</td>\n",
       "      <td>A</td>\n",
       "      <td>2018/5/31</td>\n",
       "      <td>6</td>\n",
       "      <td>深振业A</td>\n",
       "      <td>5bf58d7fbe3c4aa79d2b726f</td>\n",
       "    </tr>\n",
       "    <tr>\n",
       "      <th>3</th>\n",
       "      <td></td>\n",
       "      <td>深圳市全新好股份有限公司</td>\n",
       "      <td>Shenzhen Quanxinhao Co.,Ltd.</td>\n",
       "      <td></td>\n",
       "      <td>10</td>\n",
       "      <td>CNY</td>\n",
       "      <td>1988/11/21</td>\n",
       "      <td>1992/4/13</td>\n",
       "      <td>3</td>\n",
       "      <td>房地产</td>\n",
       "      <td>...</td>\n",
       "      <td>房地产业</td>\n",
       "      <td>8400</td>\n",
       "      <td>1.0</td>\n",
       "      <td>CNY</td>\n",
       "      <td>2</td>\n",
       "      <td>A</td>\n",
       "      <td>2018/6/29</td>\n",
       "      <td>7</td>\n",
       "      <td>全新好</td>\n",
       "      <td>5bf58d7fbe3c4aa79d2b7270</td>\n",
       "    </tr>\n",
       "    <tr>\n",
       "      <th>4</th>\n",
       "      <td></td>\n",
       "      <td>神州高铁技术股份有限公司</td>\n",
       "      <td>China High-Speed Railway Technology Co., Ltd.</td>\n",
       "      <td></td>\n",
       "      <td>10</td>\n",
       "      <td>CNY</td>\n",
       "      <td>1989/10/11</td>\n",
       "      <td>1992/5/7</td>\n",
       "      <td>5</td>\n",
       "      <td>工业</td>\n",
       "      <td>...</td>\n",
       "      <td>铁路、船舶、航空航天和其它运输设备制造业</td>\n",
       "      <td>1000</td>\n",
       "      <td>1.0</td>\n",
       "      <td>CNY</td>\n",
       "      <td>2</td>\n",
       "      <td>N</td>\n",
       "      <td>2018/6/6</td>\n",
       "      <td>8</td>\n",
       "      <td>神州高铁</td>\n",
       "      <td>5bf58d7fbe3c4aa79d2b7271</td>\n",
       "    </tr>\n",
       "  </tbody>\n",
       "</table>\n",
       "<p>5 rows × 29 columns</p>\n",
       "</div>"
      ],
      "text/plain": [
       "  Commnt            Conme                                       Conme_en Crcd  \\\n",
       "0          深圳中国农大科技股份有限公司              Shenzhen Cau Technology Co., Ltd.        \n",
       "1            深圳世纪星源股份有限公司                  Shenzhen Fountain Corporation        \n",
       "2         深圳市振业(集团)股份有限公司              Shenzhen Zhenye (Group) Co., Ltd.        \n",
       "3            深圳市全新好股份有限公司                   Shenzhen Quanxinhao Co.,Ltd.        \n",
       "4            神州高铁技术股份有限公司  China High-Speed Railway Technology Co., Ltd.        \n",
       "\n",
       "   Cuntrycd Curtrd      Estbdt     Favaldt  Indcd Indnme  \\\n",
       "0        10    CNY    1986/5/5   1991/1/14      5     工业   \n",
       "1        10    CNY    1990/2/1  1990/12/10      2   公用事业   \n",
       "2        10    CNY    1989/4/1   1992/4/27      3    房地产   \n",
       "3        10    CNY  1988/11/21   1992/4/13      3    房地产   \n",
       "4        10    CNY  1989/10/11    1992/5/7      5     工业   \n",
       "\n",
       "             ...                         Nnindnme Nshripo  Parval Parvcur  \\\n",
       "0            ...                            医药制造业   12500     1.0     CNY   \n",
       "1            ...                       生态保护和环境治理业   44339     1.0     CNY   \n",
       "2            ...                             房地产业     690     1.0     CNY   \n",
       "3            ...                             房地产业    8400     1.0     CNY   \n",
       "4            ...             铁路、船舶、航空航天和其它运输设备制造业    1000     1.0     CNY   \n",
       "\n",
       "  Sctcd  Statco     Statdt Stkcd Stknme                       _id  \n",
       "0     2       A  2018/5/31     4   国农科技  5bf58d7fbe3c4aa79d2b726d  \n",
       "1     2       A  2018/5/31     5   世纪星源  5bf58d7fbe3c4aa79d2b726e  \n",
       "2     2       A  2018/5/31     6   深振业A  5bf58d7fbe3c4aa79d2b726f  \n",
       "3     2       A  2018/6/29     7    全新好  5bf58d7fbe3c4aa79d2b7270  \n",
       "4     2       N   2018/6/6     8   神州高铁  5bf58d7fbe3c4aa79d2b7271  \n",
       "\n",
       "[5 rows x 29 columns]"
      ]
     },
     "execution_count": 4,
     "metadata": {},
     "output_type": "execute_result"
    }
   ],
   "source": [
    "pd.DataFrame(list(stockInfo.find())).head(5)"
   ]
  },
  {
   "cell_type": "markdown",
   "metadata": {
    "slideshow": {
     "slide_type": "slide"
    }
   },
   "source": [
    "## Data Sets - Stock Info\n",
    "Use quetry to show the fields (List date, Industry code, Status, Stock code) we will use in the next section, limit the output records to 10. As we can see, the industry code is made by a letter and 2 numbers, where the first letter represents the major industry and the whole code represents segements under each major industry. "
   ]
  },
  {
   "cell_type": "code",
   "execution_count": 5,
   "metadata": {
    "slideshow": {
     "slide_type": "fragment"
    }
   },
   "outputs": [
    {
     "data": {
      "text/html": [
       "<div>\n",
       "<style scoped>\n",
       "    .dataframe tbody tr th:only-of-type {\n",
       "        vertical-align: middle;\n",
       "    }\n",
       "\n",
       "    .dataframe tbody tr th {\n",
       "        vertical-align: top;\n",
       "    }\n",
       "\n",
       "    .dataframe thead th {\n",
       "        text-align: right;\n",
       "    }\n",
       "</style>\n",
       "<table border=\"1\" class=\"dataframe\">\n",
       "  <thead>\n",
       "    <tr style=\"text-align: right;\">\n",
       "      <th></th>\n",
       "      <th>List Date</th>\n",
       "      <th>Industry Code</th>\n",
       "      <th>Status</th>\n",
       "      <th>Stock Code</th>\n",
       "      <th>_id</th>\n",
       "    </tr>\n",
       "  </thead>\n",
       "  <tbody>\n",
       "    <tr>\n",
       "      <th>0</th>\n",
       "      <td>1991/1/14</td>\n",
       "      <td>C27</td>\n",
       "      <td>A</td>\n",
       "      <td>4</td>\n",
       "      <td>5bf58d7fbe3c4aa79d2b726d</td>\n",
       "    </tr>\n",
       "    <tr>\n",
       "      <th>1</th>\n",
       "      <td>1990/12/10</td>\n",
       "      <td>N77</td>\n",
       "      <td>A</td>\n",
       "      <td>5</td>\n",
       "      <td>5bf58d7fbe3c4aa79d2b726e</td>\n",
       "    </tr>\n",
       "    <tr>\n",
       "      <th>2</th>\n",
       "      <td>1992/4/27</td>\n",
       "      <td>K70</td>\n",
       "      <td>A</td>\n",
       "      <td>6</td>\n",
       "      <td>5bf58d7fbe3c4aa79d2b726f</td>\n",
       "    </tr>\n",
       "    <tr>\n",
       "      <th>3</th>\n",
       "      <td>1992/4/13</td>\n",
       "      <td>K70</td>\n",
       "      <td>A</td>\n",
       "      <td>7</td>\n",
       "      <td>5bf58d7fbe3c4aa79d2b7270</td>\n",
       "    </tr>\n",
       "    <tr>\n",
       "      <th>4</th>\n",
       "      <td>1992/5/7</td>\n",
       "      <td>C37</td>\n",
       "      <td>N</td>\n",
       "      <td>8</td>\n",
       "      <td>5bf58d7fbe3c4aa79d2b7271</td>\n",
       "    </tr>\n",
       "    <tr>\n",
       "      <th>5</th>\n",
       "      <td>1991/1/29</td>\n",
       "      <td>K70</td>\n",
       "      <td>A</td>\n",
       "      <td>2</td>\n",
       "      <td>5bf58d7fbe3c4aa79d2b7272</td>\n",
       "    </tr>\n",
       "    <tr>\n",
       "      <th>6</th>\n",
       "      <td>1995/10/27</td>\n",
       "      <td>E48</td>\n",
       "      <td>A</td>\n",
       "      <td>10</td>\n",
       "      <td>5bf58d7fbe3c4aa79d2b7273</td>\n",
       "    </tr>\n",
       "    <tr>\n",
       "      <th>7</th>\n",
       "      <td>1992/3/30</td>\n",
       "      <td>K70</td>\n",
       "      <td>A</td>\n",
       "      <td>11</td>\n",
       "      <td>5bf58d7fbe3c4aa79d2b7274</td>\n",
       "    </tr>\n",
       "    <tr>\n",
       "      <th>8</th>\n",
       "      <td>1992/2/28</td>\n",
       "      <td>C30</td>\n",
       "      <td>A</td>\n",
       "      <td>12</td>\n",
       "      <td>5bf58d7fbe3c4aa79d2b7275</td>\n",
       "    </tr>\n",
       "    <tr>\n",
       "      <th>9</th>\n",
       "      <td>1992/5/6</td>\n",
       "      <td>F51</td>\n",
       "      <td>D</td>\n",
       "      <td>13</td>\n",
       "      <td>5bf58d7fbe3c4aa79d2b7276</td>\n",
       "    </tr>\n",
       "  </tbody>\n",
       "</table>\n",
       "</div>"
      ],
      "text/plain": [
       "    List Date Industry Code Status  Stock Code                       _id\n",
       "0   1991/1/14           C27      A           4  5bf58d7fbe3c4aa79d2b726d\n",
       "1  1990/12/10           N77      A           5  5bf58d7fbe3c4aa79d2b726e\n",
       "2   1992/4/27           K70      A           6  5bf58d7fbe3c4aa79d2b726f\n",
       "3   1992/4/13           K70      A           7  5bf58d7fbe3c4aa79d2b7270\n",
       "4    1992/5/7           C37      N           8  5bf58d7fbe3c4aa79d2b7271\n",
       "5   1991/1/29           K70      A           2  5bf58d7fbe3c4aa79d2b7272\n",
       "6  1995/10/27           E48      A          10  5bf58d7fbe3c4aa79d2b7273\n",
       "7   1992/3/30           K70      A          11  5bf58d7fbe3c4aa79d2b7274\n",
       "8   1992/2/28           C30      A          12  5bf58d7fbe3c4aa79d2b7275\n",
       "9    1992/5/6           F51      D          13  5bf58d7fbe3c4aa79d2b7276"
      ]
     },
     "execution_count": 5,
     "metadata": {},
     "output_type": "execute_result"
    }
   ],
   "source": [
    "pd.DataFrame(list(stockInfo.find( \n",
    "    {}, {\"Stkcd\": 1, \"Nnindcd\": 1, \"Listdt\": 1, \"Statco\": 1} \n",
    "))).head(10).rename(columns={\"Stkcd\": \"Stock Code\", \"Nnindcd\": \"Industry Code\", \"Statco\": \"Status\", \"Listdt\": \"List Date\"})\n"
   ]
  },
  {
   "cell_type": "markdown",
   "metadata": {
    "slideshow": {
     "slide_type": "slide"
    }
   },
   "source": [
    "## Data Sets - Market Data\n",
    "Count the total number of documents inside the collection. There are 4199075 records."
   ]
  },
  {
   "cell_type": "code",
   "execution_count": 6,
   "metadata": {
    "slideshow": {
     "slide_type": "fragment"
    }
   },
   "outputs": [
    {
     "data": {
      "text/plain": [
       "4199075"
      ]
     },
     "execution_count": 6,
     "metadata": {},
     "output_type": "execute_result"
    }
   ],
   "source": [
    "marketData.count_documents({})"
   ]
  },
  {
   "cell_type": "markdown",
   "metadata": {
    "slideshow": {
     "slide_type": "fragment"
    }
   },
   "source": [
    "## Data Sets - Market Data\n",
    "Use find_one to show the first document from the collection. There are 18 fields in the collection."
   ]
  },
  {
   "cell_type": "code",
   "execution_count": 7,
   "metadata": {
    "scrolled": false,
    "slideshow": {
     "slide_type": "fragment"
    }
   },
   "outputs": [
    {
     "data": {
      "text/plain": [
       "{'Adjprcnd': 472.785851,\n",
       " 'Adjprcwd': 544.653723,\n",
       " 'Capchgdt': '2011-07-20',\n",
       " 'Clsprc': 15.78,\n",
       " 'Dnshrtrd': 22113866,\n",
       " 'Dnvaltrd': 345938687.24,\n",
       " 'Dretnd': 0.028013,\n",
       " 'Dretwd': 0.028013,\n",
       " 'Dsmvosd': 49002559.84,\n",
       " 'Dsmvtll': 80846469.56,\n",
       " 'Hiprc': 15.81,\n",
       " 'Loprc': 15.25,\n",
       " 'Markettype': 4,\n",
       " 'Opnprc': 15.36,\n",
       " 'Stkcd': 1,\n",
       " 'Trddt': '2012-01-09',\n",
       " 'Trdsta': 1,\n",
       " '_id': ObjectId('5bf58d99be3c4aa79d2b8111')}"
      ]
     },
     "execution_count": 7,
     "metadata": {},
     "output_type": "execute_result"
    }
   ],
   "source": [
    "marketData.find_one()"
   ]
  },
  {
   "cell_type": "markdown",
   "metadata": {
    "slideshow": {
     "slide_type": "slide"
    }
   },
   "source": [
    "## Data Sets - Market Data\n",
    "Use mongodb query to show the fields (Close price, Daily return, Market equity, Stock code, Trade date) and limit the output records to 10."
   ]
  },
  {
   "cell_type": "code",
   "execution_count": 8,
   "metadata": {
    "slideshow": {
     "slide_type": "fragment"
    }
   },
   "outputs": [
    {
     "data": {
      "text/html": [
       "<div>\n",
       "<style scoped>\n",
       "    .dataframe tbody tr th:only-of-type {\n",
       "        vertical-align: middle;\n",
       "    }\n",
       "\n",
       "    .dataframe tbody tr th {\n",
       "        vertical-align: top;\n",
       "    }\n",
       "\n",
       "    .dataframe thead th {\n",
       "        text-align: right;\n",
       "    }\n",
       "</style>\n",
       "<table border=\"1\" class=\"dataframe\">\n",
       "  <thead>\n",
       "    <tr style=\"text-align: right;\">\n",
       "      <th></th>\n",
       "      <th>Close Price</th>\n",
       "      <th>Daily Return</th>\n",
       "      <th>Market Equity</th>\n",
       "      <th>Stock Code</th>\n",
       "      <th>Trade Date</th>\n",
       "      <th>_id</th>\n",
       "    </tr>\n",
       "  </thead>\n",
       "  <tbody>\n",
       "    <tr>\n",
       "      <th>0</th>\n",
       "      <td>15.78</td>\n",
       "      <td>0.028013</td>\n",
       "      <td>80846469.56</td>\n",
       "      <td>1</td>\n",
       "      <td>2012-01-09</td>\n",
       "      <td>5bf58d99be3c4aa79d2b8111</td>\n",
       "    </tr>\n",
       "    <tr>\n",
       "      <th>1</th>\n",
       "      <td>16.78</td>\n",
       "      <td>0.063371</td>\n",
       "      <td>85969819.98</td>\n",
       "      <td>1</td>\n",
       "      <td>2012-01-20</td>\n",
       "      <td>5bf58d99be3c4aa79d2b8112</td>\n",
       "    </tr>\n",
       "    <tr>\n",
       "      <th>2</th>\n",
       "      <td>16.71</td>\n",
       "      <td>-0.004172</td>\n",
       "      <td>85611185.45</td>\n",
       "      <td>1</td>\n",
       "      <td>2012-01-30</td>\n",
       "      <td>5bf58d99be3c4aa79d2b8113</td>\n",
       "    </tr>\n",
       "    <tr>\n",
       "      <th>3</th>\n",
       "      <td>16.64</td>\n",
       "      <td>-0.004189</td>\n",
       "      <td>85252550.92</td>\n",
       "      <td>1</td>\n",
       "      <td>2012-01-31</td>\n",
       "      <td>5bf58d99be3c4aa79d2b8114</td>\n",
       "    </tr>\n",
       "    <tr>\n",
       "      <th>4</th>\n",
       "      <td>16.45</td>\n",
       "      <td>-0.011418</td>\n",
       "      <td>84279114.34</td>\n",
       "      <td>1</td>\n",
       "      <td>2012-02-01</td>\n",
       "      <td>5bf58d99be3c4aa79d2b8115</td>\n",
       "    </tr>\n",
       "    <tr>\n",
       "      <th>5</th>\n",
       "      <td>16.92</td>\n",
       "      <td>0.028571</td>\n",
       "      <td>86687089.04</td>\n",
       "      <td>1</td>\n",
       "      <td>2012-02-02</td>\n",
       "      <td>5bf58d99be3c4aa79d2b8116</td>\n",
       "    </tr>\n",
       "    <tr>\n",
       "      <th>6</th>\n",
       "      <td>16.99</td>\n",
       "      <td>0.004137</td>\n",
       "      <td>87045723.57</td>\n",
       "      <td>1</td>\n",
       "      <td>2012-02-03</td>\n",
       "      <td>5bf58d99be3c4aa79d2b8117</td>\n",
       "    </tr>\n",
       "    <tr>\n",
       "      <th>7</th>\n",
       "      <td>16.83</td>\n",
       "      <td>-0.009417</td>\n",
       "      <td>86225987.50</td>\n",
       "      <td>1</td>\n",
       "      <td>2012-02-06</td>\n",
       "      <td>5bf58d99be3c4aa79d2b8118</td>\n",
       "    </tr>\n",
       "    <tr>\n",
       "      <th>8</th>\n",
       "      <td>16.59</td>\n",
       "      <td>-0.014260</td>\n",
       "      <td>84996383.40</td>\n",
       "      <td>1</td>\n",
       "      <td>2012-02-07</td>\n",
       "      <td>5bf58d99be3c4aa79d2b8119</td>\n",
       "    </tr>\n",
       "    <tr>\n",
       "      <th>9</th>\n",
       "      <td>16.90</td>\n",
       "      <td>0.018686</td>\n",
       "      <td>86584622.03</td>\n",
       "      <td>1</td>\n",
       "      <td>2012-02-08</td>\n",
       "      <td>5bf58d99be3c4aa79d2b811a</td>\n",
       "    </tr>\n",
       "  </tbody>\n",
       "</table>\n",
       "</div>"
      ],
      "text/plain": [
       "   Close Price  Daily Return  Market Equity  Stock Code  Trade Date  \\\n",
       "0        15.78      0.028013    80846469.56           1  2012-01-09   \n",
       "1        16.78      0.063371    85969819.98           1  2012-01-20   \n",
       "2        16.71     -0.004172    85611185.45           1  2012-01-30   \n",
       "3        16.64     -0.004189    85252550.92           1  2012-01-31   \n",
       "4        16.45     -0.011418    84279114.34           1  2012-02-01   \n",
       "5        16.92      0.028571    86687089.04           1  2012-02-02   \n",
       "6        16.99      0.004137    87045723.57           1  2012-02-03   \n",
       "7        16.83     -0.009417    86225987.50           1  2012-02-06   \n",
       "8        16.59     -0.014260    84996383.40           1  2012-02-07   \n",
       "9        16.90      0.018686    86584622.03           1  2012-02-08   \n",
       "\n",
       "                        _id  \n",
       "0  5bf58d99be3c4aa79d2b8111  \n",
       "1  5bf58d99be3c4aa79d2b8112  \n",
       "2  5bf58d99be3c4aa79d2b8113  \n",
       "3  5bf58d99be3c4aa79d2b8114  \n",
       "4  5bf58d99be3c4aa79d2b8115  \n",
       "5  5bf58d99be3c4aa79d2b8116  \n",
       "6  5bf58d99be3c4aa79d2b8117  \n",
       "7  5bf58d99be3c4aa79d2b8118  \n",
       "8  5bf58d99be3c4aa79d2b8119  \n",
       "9  5bf58d99be3c4aa79d2b811a  "
      ]
     },
     "execution_count": 8,
     "metadata": {},
     "output_type": "execute_result"
    }
   ],
   "source": [
    "pd.DataFrame(list(marketData.find( \n",
    "    {}, {\"Stkcd\": 1, \"Trddt\": 1, \"Clsprc\": 1, \"Dretwd\": 1, \"Dsmvtll\": 1} ))).head(10).rename(columns=\n",
    "    {\"Stkcd\": \"Stock Code\", \"Trddt\": \"Trade Date\", \"Clsprc\": \"Close Price\", \"Dretwd\": \"Daily Return\", \"Dsmvtll\" :\"Market Equity\"})"
   ]
  },
  {
   "cell_type": "markdown",
   "metadata": {
    "slideshow": {
     "slide_type": "slide"
    }
   },
   "source": [
    "## Data Sets - Balance Sheet\n",
    "The total number of documents inside the balance sheet is 177875."
   ]
  },
  {
   "cell_type": "code",
   "execution_count": 9,
   "metadata": {
    "scrolled": true,
    "slideshow": {
     "slide_type": "fragment"
    }
   },
   "outputs": [
    {
     "data": {
      "text/plain": [
       "177875"
      ]
     },
     "execution_count": 9,
     "metadata": {},
     "output_type": "execute_result"
    }
   ],
   "source": [
    "balanceSheet.count_documents({})"
   ]
  },
  {
   "cell_type": "markdown",
   "metadata": {
    "slideshow": {
     "slide_type": "fragment"
    }
   },
   "source": [
    "## Data Sets - Balance Sheet\n",
    "Fields (Equity, Report date, Stock code) whose report type is \"Consolidated\". Limit the output records to 10."
   ]
  },
  {
   "cell_type": "code",
   "execution_count": 10,
   "metadata": {
    "slideshow": {
     "slide_type": "fragment"
    }
   },
   "outputs": [
    {
     "data": {
      "text/html": [
       "<div>\n",
       "<style scoped>\n",
       "    .dataframe tbody tr th:only-of-type {\n",
       "        vertical-align: middle;\n",
       "    }\n",
       "\n",
       "    .dataframe tbody tr th {\n",
       "        vertical-align: top;\n",
       "    }\n",
       "\n",
       "    .dataframe thead th {\n",
       "        text-align: right;\n",
       "    }\n",
       "</style>\n",
       "<table border=\"1\" class=\"dataframe\">\n",
       "  <thead>\n",
       "    <tr style=\"text-align: right;\">\n",
       "      <th></th>\n",
       "      <th>Equity</th>\n",
       "      <th>Report Date</th>\n",
       "      <th>Stock Code</th>\n",
       "      <th>_id</th>\n",
       "    </tr>\n",
       "  </thead>\n",
       "  <tbody>\n",
       "    <tr>\n",
       "      <th>0</th>\n",
       "      <td>7.982261e+10</td>\n",
       "      <td>2012-06-30</td>\n",
       "      <td>1</td>\n",
       "      <td>5bf58e36be3c4aa79d6ba428</td>\n",
       "    </tr>\n",
       "    <tr>\n",
       "      <th>1</th>\n",
       "      <td>8.172588e+10</td>\n",
       "      <td>2012-09-30</td>\n",
       "      <td>1</td>\n",
       "      <td>5bf58e36be3c4aa79d6ba42a</td>\n",
       "    </tr>\n",
       "    <tr>\n",
       "      <th>2</th>\n",
       "      <td>8.479878e+10</td>\n",
       "      <td>2012-12-31</td>\n",
       "      <td>1</td>\n",
       "      <td>5bf58e36be3c4aa79d6ba42c</td>\n",
       "    </tr>\n",
       "    <tr>\n",
       "      <th>3</th>\n",
       "      <td>7.895742e+10</td>\n",
       "      <td>2012-03-31</td>\n",
       "      <td>1</td>\n",
       "      <td>5bf58e36be3c4aa79d6ba42f</td>\n",
       "    </tr>\n",
       "    <tr>\n",
       "      <th>4</th>\n",
       "      <td>8.875900e+10</td>\n",
       "      <td>2013-03-31</td>\n",
       "      <td>1</td>\n",
       "      <td>5bf58e36be3c4aa79d6ba431</td>\n",
       "    </tr>\n",
       "    <tr>\n",
       "      <th>5</th>\n",
       "      <td>1.120810e+11</td>\n",
       "      <td>2013-12-31</td>\n",
       "      <td>1</td>\n",
       "      <td>5bf58e36be3c4aa79d6ba432</td>\n",
       "    </tr>\n",
       "    <tr>\n",
       "      <th>6</th>\n",
       "      <td>8.479900e+10</td>\n",
       "      <td>2013-01-01</td>\n",
       "      <td>1</td>\n",
       "      <td>5bf58e36be3c4aa79d6ba433</td>\n",
       "    </tr>\n",
       "    <tr>\n",
       "      <th>7</th>\n",
       "      <td>1.173000e+11</td>\n",
       "      <td>2014-03-31</td>\n",
       "      <td>1</td>\n",
       "      <td>5bf58e36be3c4aa79d6ba434</td>\n",
       "    </tr>\n",
       "    <tr>\n",
       "      <th>8</th>\n",
       "      <td>1.209400e+11</td>\n",
       "      <td>2014-06-30</td>\n",
       "      <td>1</td>\n",
       "      <td>5bf58e36be3c4aa79d6ba435</td>\n",
       "    </tr>\n",
       "    <tr>\n",
       "      <th>9</th>\n",
       "      <td>7.538058e+10</td>\n",
       "      <td>2012-01-01</td>\n",
       "      <td>1</td>\n",
       "      <td>5bf58e36be3c4aa79d6ba436</td>\n",
       "    </tr>\n",
       "  </tbody>\n",
       "</table>\n",
       "</div>"
      ],
      "text/plain": [
       "         Equity Report Date  Stock Code                       _id\n",
       "0  7.982261e+10  2012-06-30           1  5bf58e36be3c4aa79d6ba428\n",
       "1  8.172588e+10  2012-09-30           1  5bf58e36be3c4aa79d6ba42a\n",
       "2  8.479878e+10  2012-12-31           1  5bf58e36be3c4aa79d6ba42c\n",
       "3  7.895742e+10  2012-03-31           1  5bf58e36be3c4aa79d6ba42f\n",
       "4  8.875900e+10  2013-03-31           1  5bf58e36be3c4aa79d6ba431\n",
       "5  1.120810e+11  2013-12-31           1  5bf58e36be3c4aa79d6ba432\n",
       "6  8.479900e+10  2013-01-01           1  5bf58e36be3c4aa79d6ba433\n",
       "7  1.173000e+11  2014-03-31           1  5bf58e36be3c4aa79d6ba434\n",
       "8  1.209400e+11  2014-06-30           1  5bf58e36be3c4aa79d6ba435\n",
       "9  7.538058e+10  2012-01-01           1  5bf58e36be3c4aa79d6ba436"
      ]
     },
     "execution_count": 10,
     "metadata": {},
     "output_type": "execute_result"
    }
   ],
   "source": [
    "pd.DataFrame(list(balanceSheet.find( \n",
    "    {\"Typrep\": \"A\"}, {\"Stkcd\": 1, \"Accper\": 1, \"A003000000\": 1} \n",
    "))).head(10).rename(columns={\"Stkcd\": \"Stock Code\", \"Accper\": \"Report Date\", \"A003000000\": \"Equity\"})"
   ]
  },
  {
   "cell_type": "markdown",
   "metadata": {
    "slideshow": {
     "slide_type": "slide"
    }
   },
   "source": [
    "## Data Sets - Income Statement\n",
    "The total number of documents inside the collection is 177166."
   ]
  },
  {
   "cell_type": "code",
   "execution_count": 11,
   "metadata": {
    "slideshow": {
     "slide_type": "fragment"
    }
   },
   "outputs": [
    {
     "data": {
      "text/plain": [
       "177166"
      ]
     },
     "execution_count": 11,
     "metadata": {},
     "output_type": "execute_result"
    }
   ],
   "source": [
    "incomeStat.count_documents({})"
   ]
  },
  {
   "cell_type": "markdown",
   "metadata": {
    "slideshow": {
     "slide_type": "fragment"
    }
   },
   "source": [
    "## Data Sets - Income Statement\n",
    "List the fields (Report date, Net profit, Stock code) whose report type is \"Consolidated\". Limit the output records to 10."
   ]
  },
  {
   "cell_type": "code",
   "execution_count": 12,
   "metadata": {
    "scrolled": true,
    "slideshow": {
     "slide_type": "fragment"
    }
   },
   "outputs": [
    {
     "data": {
      "text/html": [
       "<div>\n",
       "<style scoped>\n",
       "    .dataframe tbody tr th:only-of-type {\n",
       "        vertical-align: middle;\n",
       "    }\n",
       "\n",
       "    .dataframe tbody tr th {\n",
       "        vertical-align: top;\n",
       "    }\n",
       "\n",
       "    .dataframe thead th {\n",
       "        text-align: right;\n",
       "    }\n",
       "</style>\n",
       "<table border=\"1\" class=\"dataframe\">\n",
       "  <thead>\n",
       "    <tr style=\"text-align: right;\">\n",
       "      <th></th>\n",
       "      <th>Report Date</th>\n",
       "      <th>Net Profit</th>\n",
       "      <th>Stock Code</th>\n",
       "      <th>_id</th>\n",
       "    </tr>\n",
       "  </thead>\n",
       "  <tbody>\n",
       "    <tr>\n",
       "      <th>89516</th>\n",
       "      <td>2016-06-30</td>\n",
       "      <td>596452.11</td>\n",
       "      <td>900957</td>\n",
       "      <td>5bf5a1a8be3c4aa79d767e2e</td>\n",
       "    </tr>\n",
       "    <tr>\n",
       "      <th>89517</th>\n",
       "      <td>2016-09-30</td>\n",
       "      <td>2254166.48</td>\n",
       "      <td>900957</td>\n",
       "      <td>5bf5a1a8be3c4aa79d767e30</td>\n",
       "    </tr>\n",
       "    <tr>\n",
       "      <th>89518</th>\n",
       "      <td>2016-01-01</td>\n",
       "      <td>3467898.87</td>\n",
       "      <td>900957</td>\n",
       "      <td>5bf5a1a8be3c4aa79d767e32</td>\n",
       "    </tr>\n",
       "    <tr>\n",
       "      <th>89519</th>\n",
       "      <td>2016-12-31</td>\n",
       "      <td>3022152.74</td>\n",
       "      <td>900957</td>\n",
       "      <td>5bf5a1a8be3c4aa79d767e34</td>\n",
       "    </tr>\n",
       "    <tr>\n",
       "      <th>89520</th>\n",
       "      <td>2017-03-31</td>\n",
       "      <td>5324024.45</td>\n",
       "      <td>900957</td>\n",
       "      <td>5bf5a1a8be3c4aa79d767e36</td>\n",
       "    </tr>\n",
       "    <tr>\n",
       "      <th>89521</th>\n",
       "      <td>2017-06-30</td>\n",
       "      <td>11187154.83</td>\n",
       "      <td>900957</td>\n",
       "      <td>5bf5a1a8be3c4aa79d767e38</td>\n",
       "    </tr>\n",
       "    <tr>\n",
       "      <th>89522</th>\n",
       "      <td>2017-09-30</td>\n",
       "      <td>18224007.47</td>\n",
       "      <td>900957</td>\n",
       "      <td>5bf5a1a8be3c4aa79d767e3a</td>\n",
       "    </tr>\n",
       "    <tr>\n",
       "      <th>89523</th>\n",
       "      <td>2017-12-31</td>\n",
       "      <td>30015892.98</td>\n",
       "      <td>900957</td>\n",
       "      <td>5bf5a1a8be3c4aa79d767e3c</td>\n",
       "    </tr>\n",
       "    <tr>\n",
       "      <th>89524</th>\n",
       "      <td>2017-01-01</td>\n",
       "      <td>3022152.74</td>\n",
       "      <td>900957</td>\n",
       "      <td>5bf5a1a8be3c4aa79d767e3e</td>\n",
       "    </tr>\n",
       "    <tr>\n",
       "      <th>89525</th>\n",
       "      <td>2018-03-31</td>\n",
       "      <td>8446714.68</td>\n",
       "      <td>900957</td>\n",
       "      <td>5bf5a1a8be3c4aa79d767e40</td>\n",
       "    </tr>\n",
       "  </tbody>\n",
       "</table>\n",
       "</div>"
      ],
      "text/plain": [
       "      Report Date   Net Profit  Stock Code                       _id\n",
       "89516  2016-06-30    596452.11      900957  5bf5a1a8be3c4aa79d767e2e\n",
       "89517  2016-09-30   2254166.48      900957  5bf5a1a8be3c4aa79d767e30\n",
       "89518  2016-01-01   3467898.87      900957  5bf5a1a8be3c4aa79d767e32\n",
       "89519  2016-12-31   3022152.74      900957  5bf5a1a8be3c4aa79d767e34\n",
       "89520  2017-03-31   5324024.45      900957  5bf5a1a8be3c4aa79d767e36\n",
       "89521  2017-06-30  11187154.83      900957  5bf5a1a8be3c4aa79d767e38\n",
       "89522  2017-09-30  18224007.47      900957  5bf5a1a8be3c4aa79d767e3a\n",
       "89523  2017-12-31  30015892.98      900957  5bf5a1a8be3c4aa79d767e3c\n",
       "89524  2017-01-01   3022152.74      900957  5bf5a1a8be3c4aa79d767e3e\n",
       "89525  2018-03-31   8446714.68      900957  5bf5a1a8be3c4aa79d767e40"
      ]
     },
     "execution_count": 12,
     "metadata": {},
     "output_type": "execute_result"
    }
   ],
   "source": [
    "pd.DataFrame(list(incomeStat.find( \n",
    "    {\"Typrep\": \"A\"}, {\"Stkcd\": 1, \"Accper\": 1, \"B002000000\": 1} \n",
    "))).tail(10).rename(columns={\"Stkcd\": \"Stock Code\", \"Accper\": \"Report Date\", \"B002000000\": \"Net Profit\"})"
   ]
  },
  {
   "cell_type": "markdown",
   "metadata": {},
   "source": [
    "## Proposed Questions, Queries & Outputs\n",
    "In this section, 5 questions were proposed."
   ]
  },
  {
   "cell_type": "markdown",
   "metadata": {
    "slideshow": {
     "slide_type": "slide"
    }
   },
   "source": [
    "### Proposed question 1:\n",
    "How many normal trading stocks and industries on A shares?"
   ]
  },
  {
   "cell_type": "code",
   "execution_count": 13,
   "metadata": {
    "slideshow": {
     "slide_type": "fragment"
    }
   },
   "outputs": [
    {
     "data": {
      "text/plain": [
       "3425"
      ]
     },
     "execution_count": 13,
     "metadata": {},
     "output_type": "execute_result"
    }
   ],
   "source": [
    "#count the number of stocks which are normal trading(status = A)\n",
    "stockInfo.count_documents({\"Statco\": \"A\"})"
   ]
  },
  {
   "cell_type": "markdown",
   "metadata": {},
   "source": [
    ">count_documents() is used to count the number of stocks when their status is A (normal trading).<br>\n",
    "There are __3425 normal trading__ stocks on the market."
   ]
  },
  {
   "cell_type": "code",
   "execution_count": 14,
   "metadata": {
    "slideshow": {
     "slide_type": "fragment"
    }
   },
   "outputs": [
    {
     "data": {
      "text/plain": [
       "81"
      ]
     },
     "execution_count": 14,
     "metadata": {},
     "output_type": "execute_result"
    }
   ],
   "source": [
    "#segement industry\n",
    "len(stockInfo.distinct('Nnindcd'))"
   ]
  },
  {
   "cell_type": "markdown",
   "metadata": {},
   "source": [
    ">distinct() is used to count the unique number of segements.<br>\n",
    "There are __81 segements__ across the market."
   ]
  },
  {
   "cell_type": "code",
   "execution_count": 15,
   "metadata": {
    "slideshow": {
     "slide_type": "fragment"
    }
   },
   "outputs": [
    {
     "data": {
      "text/plain": [
       "19"
      ]
     },
     "execution_count": 15,
     "metadata": {},
     "output_type": "execute_result"
    }
   ],
   "source": [
    "#major industry\n",
    "ind = stockInfo.distinct('Nnindcd')\n",
    "majorInd = [w[:-2] for w in ind]\n",
    "len(set(majorInd))"
   ]
  },
  {
   "cell_type": "markdown",
   "metadata": {},
   "source": [
    ">distinct() is used to count the unique number of major industry. <br>\n",
    "There are __19 major__ industries across the market."
   ]
  },
  {
   "cell_type": "markdown",
   "metadata": {
    "slideshow": {
     "slide_type": "slide"
    }
   },
   "source": [
    "### Proposed question 2:\n",
    "How many listed companies which are normal trading(stocks still trading on the market) in each major industries?"
   ]
  },
  {
   "cell_type": "code",
   "execution_count": 16,
   "metadata": {},
   "outputs": [
    {
     "data": {
      "text/plain": [
       "[{'Major Industry': 'C', 'count': 2174},\n",
       " {'Major Industry': 'I', 'count': 238},\n",
       " {'Major Industry': 'F', 'count': 160},\n",
       " {'Major Industry': 'K', 'count': 126},\n",
       " {'Major Industry': 'D', 'count': 111},\n",
       " {'Major Industry': 'G', 'count': 101},\n",
       " {'Major Industry': 'E', 'count': 94},\n",
       " {'Major Industry': 'J', 'count': 83},\n",
       " {'Major Industry': 'B', 'count': 70},\n",
       " {'Major Industry': 'R', 'count': 53}]"
      ]
     },
     "execution_count": 16,
     "metadata": {},
     "output_type": "execute_result"
    }
   ],
   "source": [
    "list(\n",
    "stockInfo.aggregate(\n",
    "    [\n",
    "        {'$match': {\"Statco\": \"A\"}}, \n",
    "        {'$unwind': \"$Nnindcd\" }, \n",
    "        {'$group': {'_id': {'$substr': ['$Nnindcd', 0, 1]}, 'count': {'$sum': 1}}},\n",
    "        {'$project': {'_id': 0, \"Major Industry\": \"$_id\", \"count\": 1 } },\n",
    "        {'$sort' : { 'count' : -1}},\n",
    "        {'$limit': 10}\n",
    "    ]\n",
    "))"
   ]
  },
  {
   "cell_type": "markdown",
   "metadata": {},
   "source": [
    ">- Use aggregate to group and return the results by the major industries (first letter of industry code).\n",
    ">- Match the normal trading stock(status=A). \n",
    ">- Count the number of each group using \"sum: 1\".\n",
    ">- Sort the results by setting as -1 and show top 10 documents.\n",
    ">- Use 'project' to format the results."
   ]
  },
  {
   "cell_type": "markdown",
   "metadata": {},
   "source": [
    "#### Result\n",
    "Top 4 major industry with the highest number of stocks:\n",
    "- C: Manufacturing. (2174)\n",
    "- I: Information transmission, software and information services. (238)\n",
    "- F: Wholesale and retail trade. (160)\n",
    "- K: Real estate industry. (126)"
   ]
  },
  {
   "cell_type": "markdown",
   "metadata": {
    "slideshow": {
     "slide_type": "slide"
    }
   },
   "source": [
    "### Proposed question 3:\n",
    "Which segements realized high net profit in the first quarter of this year?"
   ]
  },
  {
   "cell_type": "code",
   "execution_count": 17,
   "metadata": {
    "slideshow": {
     "slide_type": "fragment"
    }
   },
   "outputs": [
    {
     "data": {
      "text/html": [
       "<div>\n",
       "<style scoped>\n",
       "    .dataframe tbody tr th:only-of-type {\n",
       "        vertical-align: middle;\n",
       "    }\n",
       "\n",
       "    .dataframe tbody tr th {\n",
       "        vertical-align: top;\n",
       "    }\n",
       "\n",
       "    .dataframe thead th {\n",
       "        text-align: right;\n",
       "    }\n",
       "</style>\n",
       "<table border=\"1\" class=\"dataframe\">\n",
       "  <thead>\n",
       "    <tr style=\"text-align: right;\">\n",
       "      <th></th>\n",
       "      <th>Report Date</th>\n",
       "      <th>Net Profit</th>\n",
       "      <th>Segement</th>\n",
       "    </tr>\n",
       "  </thead>\n",
       "  <tbody>\n",
       "    <tr>\n",
       "      <th>0</th>\n",
       "      <td>2018-03-31</td>\n",
       "      <td>7.906900e+10</td>\n",
       "      <td>{'Nnindcd': 'J66'}</td>\n",
       "    </tr>\n",
       "    <tr>\n",
       "      <th>1</th>\n",
       "      <td>2018-03-31</td>\n",
       "      <td>7.407600e+10</td>\n",
       "      <td>{'Nnindcd': 'J66'}</td>\n",
       "    </tr>\n",
       "    <tr>\n",
       "      <th>2</th>\n",
       "      <td>2018-03-31</td>\n",
       "      <td>5.904000e+10</td>\n",
       "      <td>{'Nnindcd': 'J66'}</td>\n",
       "    </tr>\n",
       "    <tr>\n",
       "      <th>3</th>\n",
       "      <td>2018-03-31</td>\n",
       "      <td>5.218300e+10</td>\n",
       "      <td>{'Nnindcd': 'J66'}</td>\n",
       "    </tr>\n",
       "    <tr>\n",
       "      <th>4</th>\n",
       "      <td>2018-03-31</td>\n",
       "      <td>2.895100e+10</td>\n",
       "      <td>{'Nnindcd': 'J68'}</td>\n",
       "    </tr>\n",
       "    <tr>\n",
       "      <th>5</th>\n",
       "      <td>2018-03-31</td>\n",
       "      <td>2.452200e+10</td>\n",
       "      <td>{'Nnindcd': 'B07'}</td>\n",
       "    </tr>\n",
       "    <tr>\n",
       "      <th>6</th>\n",
       "      <td>2018-03-31</td>\n",
       "      <td>2.270800e+10</td>\n",
       "      <td>{'Nnindcd': 'J66'}</td>\n",
       "    </tr>\n",
       "    <tr>\n",
       "      <th>7</th>\n",
       "      <td>2018-03-31</td>\n",
       "      <td>2.023200e+10</td>\n",
       "      <td>{'Nnindcd': 'J66'}</td>\n",
       "    </tr>\n",
       "    <tr>\n",
       "      <th>8</th>\n",
       "      <td>2018-03-31</td>\n",
       "      <td>1.772000e+10</td>\n",
       "      <td>{'Nnindcd': 'J66'}</td>\n",
       "    </tr>\n",
       "    <tr>\n",
       "      <th>9</th>\n",
       "      <td>2018-03-31</td>\n",
       "      <td>1.520900e+10</td>\n",
       "      <td>{'Nnindcd': 'B07'}</td>\n",
       "    </tr>\n",
       "  </tbody>\n",
       "</table>\n",
       "</div>"
      ],
      "text/plain": [
       "  Report Date    Net Profit            Segement\n",
       "0  2018-03-31  7.906900e+10  {'Nnindcd': 'J66'}\n",
       "1  2018-03-31  7.407600e+10  {'Nnindcd': 'J66'}\n",
       "2  2018-03-31  5.904000e+10  {'Nnindcd': 'J66'}\n",
       "3  2018-03-31  5.218300e+10  {'Nnindcd': 'J66'}\n",
       "4  2018-03-31  2.895100e+10  {'Nnindcd': 'J68'}\n",
       "5  2018-03-31  2.452200e+10  {'Nnindcd': 'B07'}\n",
       "6  2018-03-31  2.270800e+10  {'Nnindcd': 'J66'}\n",
       "7  2018-03-31  2.023200e+10  {'Nnindcd': 'J66'}\n",
       "8  2018-03-31  1.772000e+10  {'Nnindcd': 'J66'}\n",
       "9  2018-03-31  1.520900e+10  {'Nnindcd': 'B07'}"
      ]
     },
     "execution_count": 17,
     "metadata": {},
     "output_type": "execute_result"
    }
   ],
   "source": [
    "pd.DataFrame(list(\n",
    "incomeStat.aggregate(\n",
    "    [\n",
    "        {'$match': {'$and': [{\"Typrep\": \"A\" }, {\"Accper\": \"2018-03-31\"}]}},\n",
    "        {'$lookup': \n",
    "                {'from' : 'stockInfo',\n",
    "                 'localField' : 'Stkcd',\n",
    "                 'foreignField' : 'Stkcd',\n",
    "                 'as' : 'Nnindcd'}},\n",
    "        {'$unwind': \"$Nnindcd\" }, \n",
    "        {'$project': {'_id': 0, \"Accper\": 1, \"B002000000\": 1, 'Nnindcd.Nnindcd': 1 } },\n",
    "        {'$sort' : { 'B002000000' : -1}},\n",
    "        {'$limit': 10}\n",
    "    ]\n",
    "))).rename(columns={\"Accper\": \"Report Date\", \"B002000000\": \"Net Profit\", \"Nnindcd\": \"Segement\"})"
   ]
  },
  {
   "cell_type": "markdown",
   "metadata": {},
   "source": [
    ">- Use match to filter the net profit data from consolidate report in the first quarter this year.\n",
    ">- Use lookup to perform left outer join and add a new the industry code field from stockInfo collection by stock id.\n",
    ">- Use project to specify the existing fields.\n",
    ">- Sort the results by net profit and keep the first 10 results."
   ]
  },
  {
   "cell_type": "markdown",
   "metadata": {},
   "source": [
    "#### Result\n",
    "Top 3 segments with the highest net profit in the first quarter this year: \n",
    "- J66：Monetary financial services\n",
    "- J68:  Insurance\n",
    "- B07: Oil and gas extraction industry"
   ]
  },
  {
   "cell_type": "markdown",
   "metadata": {
    "slideshow": {
     "slide_type": "slide"
    }
   },
   "source": [
    "### Proposed question 4:\n",
    "Which segments have maintained a high market value during the past three years?"
   ]
  },
  {
   "cell_type": "code",
   "execution_count": 18,
   "metadata": {
    "scrolled": true,
    "slideshow": {
     "slide_type": "fragment"
    }
   },
   "outputs": [
    {
     "data": {
      "text/html": [
       "<div>\n",
       "<style scoped>\n",
       "    .dataframe tbody tr th:only-of-type {\n",
       "        vertical-align: middle;\n",
       "    }\n",
       "\n",
       "    .dataframe tbody tr th {\n",
       "        vertical-align: top;\n",
       "    }\n",
       "\n",
       "    .dataframe thead th {\n",
       "        text-align: right;\n",
       "    }\n",
       "</style>\n",
       "<table border=\"1\" class=\"dataframe\">\n",
       "  <thead>\n",
       "    <tr style=\"text-align: right;\">\n",
       "      <th></th>\n",
       "      <th>Segment</th>\n",
       "      <th>Three year average market value</th>\n",
       "    </tr>\n",
       "  </thead>\n",
       "  <tbody>\n",
       "    <tr>\n",
       "      <th>0</th>\n",
       "      <td>B07</td>\n",
       "      <td>4.360777e+08</td>\n",
       "    </tr>\n",
       "    <tr>\n",
       "      <th>1</th>\n",
       "      <td>J66</td>\n",
       "      <td>2.790996e+08</td>\n",
       "    </tr>\n",
       "    <tr>\n",
       "      <th>2</th>\n",
       "      <td>J68</td>\n",
       "      <td>2.414920e+08</td>\n",
       "    </tr>\n",
       "    <tr>\n",
       "      <th>3</th>\n",
       "      <td>J67</td>\n",
       "      <td>5.993220e+07</td>\n",
       "    </tr>\n",
       "    <tr>\n",
       "      <th>4</th>\n",
       "      <td>G60</td>\n",
       "      <td>5.171721e+07</td>\n",
       "    </tr>\n",
       "    <tr>\n",
       "      <th>5</th>\n",
       "      <td>G53</td>\n",
       "      <td>4.579605e+07</td>\n",
       "    </tr>\n",
       "    <tr>\n",
       "      <th>6</th>\n",
       "      <td>G56</td>\n",
       "      <td>3.484624e+07</td>\n",
       "    </tr>\n",
       "    <tr>\n",
       "      <th>7</th>\n",
       "      <td>I63</td>\n",
       "      <td>3.141723e+07</td>\n",
       "    </tr>\n",
       "    <tr>\n",
       "      <th>8</th>\n",
       "      <td>C15</td>\n",
       "      <td>3.058094e+07</td>\n",
       "    </tr>\n",
       "    <tr>\n",
       "      <th>9</th>\n",
       "      <td>B06</td>\n",
       "      <td>2.856657e+07</td>\n",
       "    </tr>\n",
       "  </tbody>\n",
       "</table>\n",
       "</div>"
      ],
      "text/plain": [
       "  Segment  Three year average market value\n",
       "0     B07                     4.360777e+08\n",
       "1     J66                     2.790996e+08\n",
       "2     J68                     2.414920e+08\n",
       "3     J67                     5.993220e+07\n",
       "4     G60                     5.171721e+07\n",
       "5     G53                     4.579605e+07\n",
       "6     G56                     3.484624e+07\n",
       "7     I63                     3.141723e+07\n",
       "8     C15                     3.058094e+07\n",
       "9     B06                     2.856657e+07"
      ]
     },
     "execution_count": 18,
     "metadata": {},
     "output_type": "execute_result"
    }
   ],
   "source": [
    "pd.DataFrame(list(\n",
    "marketData.aggregate(\n",
    "    [\n",
    "        {\"$match\": {\"$and\" : [{'$or': [{\"Trddt\": \"2016-01-04\"}, {\"Trddt\":\"2017-01-03\"}, {\"Trddt\":\"2018-01-02\"}]}, \n",
    "                              {'Dsmvtll': {'$gt': 1}}]}},\n",
    "        {'$lookup': \n",
    "                {'from' : 'stockInfo',\n",
    "                 'localField' : 'Stkcd',\n",
    "                 'foreignField' : 'Stkcd',\n",
    "                 'as' : 'Nnindcd'}},\n",
    "        {'$unwind': \"$Nnindcd\" }, \n",
    "        {'$group': {'_id': '$Nnindcd.Nnindcd', 'avgME': {'$avg': '$Dsmvtll'}}},\n",
    "        {'$project': {'Trddt': 1, 'avgME': 1}} ,\n",
    "        {'$sort' : {'avgME': -1}},\n",
    "        {'$limit': 10}\n",
    "    ]\n",
    "))).rename(columns={\"_id\": \"Segment\", \"avgME\": \"Three year average market value\"})"
   ]
  },
  {
   "cell_type": "markdown",
   "metadata": {},
   "source": [
    ">- Use match to filter the market value from last three years.\n",
    ">- Use lookup to left outer join the industry code from stockInfo collection by stock id.\n",
    ">- Use group to calculate the average market value by industry code.\n",
    ">- Use project to specify the existing fields.\n",
    ">- Use sort and limit to get the top 10 results from the highest to the lowest."
   ]
  },
  {
   "cell_type": "markdown",
   "metadata": {},
   "source": [
    "#### Result\n",
    "Top 6 segments with the highest average market value during the last 3 years:\n",
    "- B07: Oil and gas extraction industry\n",
    "- J66：Monetary financial services\n",
    "- J68: Insurance\n",
    "- J67: Capital market service\n",
    "- G60: Postal industry\n",
    "- G53: Railway transportation industry"
   ]
  },
  {
   "cell_type": "markdown",
   "metadata": {
    "slideshow": {
     "slide_type": "slide"
    }
   },
   "source": [
    "### Proposed question 5:\n",
    "What are the moving average of close price for single stock? (Take stock \"601988\" as an example.)<br>\n",
    "\n",
    "(Moving average is an old and simple method to make a general prediction on stock price. The conception of MA is calculate data points by creating a series of averages of different subsets of the full data set.)"
   ]
  },
  {
   "cell_type": "markdown",
   "metadata": {},
   "source": [
    ">Extract data using mongo query collection.find()."
   ]
  },
  {
   "cell_type": "code",
   "execution_count": 3,
   "metadata": {
    "slideshow": {
     "slide_type": "fragment"
    }
   },
   "outputs": [
    {
     "data": {
      "text/html": [
       "<div>\n",
       "<style scoped>\n",
       "    .dataframe tbody tr th:only-of-type {\n",
       "        vertical-align: middle;\n",
       "    }\n",
       "\n",
       "    .dataframe tbody tr th {\n",
       "        vertical-align: top;\n",
       "    }\n",
       "\n",
       "    .dataframe thead th {\n",
       "        text-align: right;\n",
       "    }\n",
       "</style>\n",
       "<table border=\"1\" class=\"dataframe\">\n",
       "  <thead>\n",
       "    <tr style=\"text-align: right;\">\n",
       "      <th></th>\n",
       "      <th>Close Price</th>\n",
       "      <th>Daily Return</th>\n",
       "      <th>Market Equity</th>\n",
       "      <th>Stock Code</th>\n",
       "      <th>Trade Date</th>\n",
       "      <th>_id</th>\n",
       "    </tr>\n",
       "  </thead>\n",
       "  <tbody>\n",
       "    <tr>\n",
       "      <th>0</th>\n",
       "      <td>15.78</td>\n",
       "      <td>0.028013</td>\n",
       "      <td>80846469.56</td>\n",
       "      <td>1</td>\n",
       "      <td>2012-01-09</td>\n",
       "      <td>5bf58d99be3c4aa79d2b8111</td>\n",
       "    </tr>\n",
       "    <tr>\n",
       "      <th>1</th>\n",
       "      <td>16.78</td>\n",
       "      <td>0.063371</td>\n",
       "      <td>85969819.98</td>\n",
       "      <td>1</td>\n",
       "      <td>2012-01-20</td>\n",
       "      <td>5bf58d99be3c4aa79d2b8112</td>\n",
       "    </tr>\n",
       "    <tr>\n",
       "      <th>2</th>\n",
       "      <td>16.71</td>\n",
       "      <td>-0.004172</td>\n",
       "      <td>85611185.45</td>\n",
       "      <td>1</td>\n",
       "      <td>2012-01-30</td>\n",
       "      <td>5bf58d99be3c4aa79d2b8113</td>\n",
       "    </tr>\n",
       "  </tbody>\n",
       "</table>\n",
       "</div>"
      ],
      "text/plain": [
       "   Close Price  Daily Return  Market Equity  Stock Code  Trade Date  \\\n",
       "0        15.78      0.028013    80846469.56           1  2012-01-09   \n",
       "1        16.78      0.063371    85969819.98           1  2012-01-20   \n",
       "2        16.71     -0.004172    85611185.45           1  2012-01-30   \n",
       "\n",
       "                        _id  \n",
       "0  5bf58d99be3c4aa79d2b8111  \n",
       "1  5bf58d99be3c4aa79d2b8112  \n",
       "2  5bf58d99be3c4aa79d2b8113  "
      ]
     },
     "execution_count": 3,
     "metadata": {},
     "output_type": "execute_result"
    }
   ],
   "source": [
    "pd1 = pd.DataFrame(list(marketData.find( \n",
    "   {}, {\"Stkcd\": 1, \"Trddt\": 1, \"Clsprc\": 1, \"Dretwd\": 1, \"Dsmvtll\": 1} ))).rename(columns=\n",
    "   {\"Stkcd\": \"Stock Code\", \"Trddt\": \"Trade Date\", \"Clsprc\": \"Close Price\", \"Dretwd\": \"Daily Return\", \"Dsmvtll\" :\"Market Equity\"})\n",
    "pd1.head(3)"
   ]
  },
  {
   "cell_type": "markdown",
   "metadata": {
    "slideshow": {
     "slide_type": "slide"
    }
   },
   "source": [
    "> For example, we want to predict close price for stock: <font color='Blue'>Bank of China Limited</font>, which code is '601988'. From 2016-01-01 to 2017-01-01:"
   ]
  },
  {
   "cell_type": "code",
   "execution_count": 20,
   "metadata": {
    "scrolled": true,
    "slideshow": {
     "slide_type": "fragment"
    }
   },
   "outputs": [
    {
     "name": "stdout",
     "output_type": "stream",
     "text": [
      "Please enter the STOCK code, Start date and End date you want to explore one line using commas\n",
      "601988, 2016-01-01, 2017-01-01\n",
      "Your Stock id: 601988\n",
      "Start Date:  2016-01-01\n",
      "End date:  2017-01-01\n"
     ]
    }
   ],
   "source": [
    "# Define the plot inputs\n",
    "code,start,end=input(\"Please enter the STOCK code, Start date and End date you want to explore one line using commas\\n\").split(',')\n",
    "print('Your Stock id: '+ code +'\\nStart Date: '+start + '\\nEnd date: '+end)"
   ]
  },
  {
   "cell_type": "code",
   "execution_count": 21,
   "metadata": {
    "slideshow": {
     "slide_type": "fragment"
    }
   },
   "outputs": [
    {
     "name": "stderr",
     "output_type": "stream",
     "text": [
      "C:\\Users\\liuyu\\Anaconda3\\lib\\site-packages\\ipykernel_launcher.py:3: SettingWithCopyWarning: \n",
      "A value is trying to be set on a copy of a slice from a DataFrame.\n",
      "Try using .loc[row_indexer,col_indexer] = value instead\n",
      "\n",
      "See the caveats in the documentation: http://pandas.pydata.org/pandas-docs/stable/indexing.html#indexing-view-versus-copy\n",
      "  This is separate from the ipykernel package so we can avoid doing imports until\n"
     ]
    },
    {
     "data": {
      "text/html": [
       "<div>\n",
       "<style scoped>\n",
       "    .dataframe tbody tr th:only-of-type {\n",
       "        vertical-align: middle;\n",
       "    }\n",
       "\n",
       "    .dataframe tbody tr th {\n",
       "        vertical-align: top;\n",
       "    }\n",
       "\n",
       "    .dataframe thead th {\n",
       "        text-align: right;\n",
       "    }\n",
       "</style>\n",
       "<table border=\"1\" class=\"dataframe\">\n",
       "  <thead>\n",
       "    <tr style=\"text-align: right;\">\n",
       "      <th></th>\n",
       "      <th>Close Price</th>\n",
       "    </tr>\n",
       "    <tr>\n",
       "      <th>Trade Date</th>\n",
       "      <th></th>\n",
       "    </tr>\n",
       "  </thead>\n",
       "  <tbody>\n",
       "    <tr>\n",
       "      <th>2012-01-04</th>\n",
       "      <td>2.91</td>\n",
       "    </tr>\n",
       "    <tr>\n",
       "      <th>2012-01-05</th>\n",
       "      <td>2.96</td>\n",
       "    </tr>\n",
       "    <tr>\n",
       "      <th>2012-01-09</th>\n",
       "      <td>2.98</td>\n",
       "    </tr>\n",
       "    <tr>\n",
       "      <th>2012-01-10</th>\n",
       "      <td>2.99</td>\n",
       "    </tr>\n",
       "    <tr>\n",
       "      <th>2012-01-11</th>\n",
       "      <td>2.98</td>\n",
       "    </tr>\n",
       "    <tr>\n",
       "      <th>2012-01-13</th>\n",
       "      <td>2.98</td>\n",
       "    </tr>\n",
       "    <tr>\n",
       "      <th>2012-01-12</th>\n",
       "      <td>2.98</td>\n",
       "    </tr>\n",
       "    <tr>\n",
       "      <th>2012-01-16</th>\n",
       "      <td>2.97</td>\n",
       "    </tr>\n",
       "    <tr>\n",
       "      <th>2012-01-17</th>\n",
       "      <td>3.01</td>\n",
       "    </tr>\n",
       "    <tr>\n",
       "      <th>2012-01-30</th>\n",
       "      <td>2.99</td>\n",
       "    </tr>\n",
       "  </tbody>\n",
       "</table>\n",
       "</div>"
      ],
      "text/plain": [
       "            Close Price\n",
       "Trade Date             \n",
       "2012-01-04         2.91\n",
       "2012-01-05         2.96\n",
       "2012-01-09         2.98\n",
       "2012-01-10         2.99\n",
       "2012-01-11         2.98\n",
       "2012-01-13         2.98\n",
       "2012-01-12         2.98\n",
       "2012-01-16         2.97\n",
       "2012-01-17         3.01\n",
       "2012-01-30         2.99"
      ]
     },
     "execution_count": 21,
     "metadata": {},
     "output_type": "execute_result"
    }
   ],
   "source": [
    "df2 = pd1[pd1['Stock Code']==int(code)]\n",
    "df3 = df2[['Close Price','Trade Date']]\n",
    "df3['Trade Date'] = pd.to_datetime(df3['Trade Date']) \n",
    "df3.sort_values(by=['Trade Date'])\n",
    "df3 = df3.set_index('Trade Date')\n",
    "df3.head(10)"
   ]
  },
  {
   "cell_type": "code",
   "execution_count": 22,
   "metadata": {
    "slideshow": {
     "slide_type": "slide"
    }
   },
   "outputs": [],
   "source": [
    "aa = pd.DataFrame(list(marketData.find( \n",
    "   {}, {\"Trddt\": 1, \"Clsprc\": 1} ))).rename(columns=\n",
    "   {\"Trddt\": \"Trade Date\", \"Clsprc\": \"Close Price\"})"
   ]
  },
  {
   "cell_type": "code",
   "execution_count": 23,
   "metadata": {
    "slideshow": {
     "slide_type": "fragment"
    }
   },
   "outputs": [
    {
     "data": {
      "text/html": [
       "<div>\n",
       "<style scoped>\n",
       "    .dataframe tbody tr th:only-of-type {\n",
       "        vertical-align: middle;\n",
       "    }\n",
       "\n",
       "    .dataframe tbody tr th {\n",
       "        vertical-align: top;\n",
       "    }\n",
       "\n",
       "    .dataframe thead th {\n",
       "        text-align: right;\n",
       "    }\n",
       "</style>\n",
       "<table border=\"1\" class=\"dataframe\">\n",
       "  <thead>\n",
       "    <tr style=\"text-align: right;\">\n",
       "      <th></th>\n",
       "      <th>Close Price</th>\n",
       "      <th>Trade Date</th>\n",
       "      <th>_id</th>\n",
       "    </tr>\n",
       "  </thead>\n",
       "  <tbody>\n",
       "    <tr>\n",
       "      <th>0</th>\n",
       "      <td>15.78</td>\n",
       "      <td>2012-01-09</td>\n",
       "      <td>5bf58d99be3c4aa79d2b8111</td>\n",
       "    </tr>\n",
       "    <tr>\n",
       "      <th>1</th>\n",
       "      <td>16.78</td>\n",
       "      <td>2012-01-20</td>\n",
       "      <td>5bf58d99be3c4aa79d2b8112</td>\n",
       "    </tr>\n",
       "    <tr>\n",
       "      <th>2</th>\n",
       "      <td>16.71</td>\n",
       "      <td>2012-01-30</td>\n",
       "      <td>5bf58d99be3c4aa79d2b8113</td>\n",
       "    </tr>\n",
       "    <tr>\n",
       "      <th>3</th>\n",
       "      <td>16.64</td>\n",
       "      <td>2012-01-31</td>\n",
       "      <td>5bf58d99be3c4aa79d2b8114</td>\n",
       "    </tr>\n",
       "    <tr>\n",
       "      <th>4</th>\n",
       "      <td>16.45</td>\n",
       "      <td>2012-02-01</td>\n",
       "      <td>5bf58d99be3c4aa79d2b8115</td>\n",
       "    </tr>\n",
       "    <tr>\n",
       "      <th>5</th>\n",
       "      <td>16.92</td>\n",
       "      <td>2012-02-02</td>\n",
       "      <td>5bf58d99be3c4aa79d2b8116</td>\n",
       "    </tr>\n",
       "    <tr>\n",
       "      <th>6</th>\n",
       "      <td>16.99</td>\n",
       "      <td>2012-02-03</td>\n",
       "      <td>5bf58d99be3c4aa79d2b8117</td>\n",
       "    </tr>\n",
       "    <tr>\n",
       "      <th>7</th>\n",
       "      <td>16.83</td>\n",
       "      <td>2012-02-06</td>\n",
       "      <td>5bf58d99be3c4aa79d2b8118</td>\n",
       "    </tr>\n",
       "    <tr>\n",
       "      <th>8</th>\n",
       "      <td>16.59</td>\n",
       "      <td>2012-02-07</td>\n",
       "      <td>5bf58d99be3c4aa79d2b8119</td>\n",
       "    </tr>\n",
       "    <tr>\n",
       "      <th>9</th>\n",
       "      <td>16.90</td>\n",
       "      <td>2012-02-08</td>\n",
       "      <td>5bf58d99be3c4aa79d2b811a</td>\n",
       "    </tr>\n",
       "  </tbody>\n",
       "</table>\n",
       "</div>"
      ],
      "text/plain": [
       "   Close Price  Trade Date                       _id\n",
       "0        15.78  2012-01-09  5bf58d99be3c4aa79d2b8111\n",
       "1        16.78  2012-01-20  5bf58d99be3c4aa79d2b8112\n",
       "2        16.71  2012-01-30  5bf58d99be3c4aa79d2b8113\n",
       "3        16.64  2012-01-31  5bf58d99be3c4aa79d2b8114\n",
       "4        16.45  2012-02-01  5bf58d99be3c4aa79d2b8115\n",
       "5        16.92  2012-02-02  5bf58d99be3c4aa79d2b8116\n",
       "6        16.99  2012-02-03  5bf58d99be3c4aa79d2b8117\n",
       "7        16.83  2012-02-06  5bf58d99be3c4aa79d2b8118\n",
       "8        16.59  2012-02-07  5bf58d99be3c4aa79d2b8119\n",
       "9        16.90  2012-02-08  5bf58d99be3c4aa79d2b811a"
      ]
     },
     "execution_count": 23,
     "metadata": {},
     "output_type": "execute_result"
    }
   ],
   "source": [
    "aa.head(10)"
   ]
  },
  {
   "cell_type": "markdown",
   "metadata": {
    "slideshow": {
     "slide_type": "slide"
    }
   },
   "source": [
    "> Choose short rolling as 20 days and long rolling as 60 days."
   ]
  },
  {
   "cell_type": "code",
   "execution_count": 24,
   "metadata": {
    "scrolled": true,
    "slideshow": {
     "slide_type": "fragment"
    }
   },
   "outputs": [],
   "source": [
    "short_rolling = df3.rolling(20).mean()\n",
    "long_rolling = df3.rolling(window=60).mean()"
   ]
  },
  {
   "cell_type": "markdown",
   "metadata": {},
   "source": [
    "> Use matplotlib to visualize the moving avearge."
   ]
  },
  {
   "cell_type": "code",
   "execution_count": 26,
   "metadata": {
    "slideshow": {
     "slide_type": "slide"
    }
   },
   "outputs": [
    {
     "data": {
      "text/plain": [
       "Text(0,0.5,'Close Price(CNY)')"
      ]
     },
     "execution_count": 26,
     "metadata": {},
     "output_type": "execute_result"
    },
    {
     "data": {
      "image/png": "[encoded data removed]",
      "text/plain": [
       "<matplotlib.figure.Figure at 0x1feb5658048>"
      ]
     },
     "metadata": {},
     "output_type": "display_data"
    }
   ],
   "source": [
    "import matplotlib.pyplot as plt\n",
    "fig, ax = plt.subplots(figsize=(16,9))\n",
    "\n",
    "ax.plot(df3.loc[start:end, :].index, df3.loc[start:end, 'Close Price'], label='Price')\n",
    "ax.plot(long_rolling.loc[start:end, :].index, long_rolling.loc[start:end, 'Close Price'], label = '100-days average')\n",
    "ax.plot(short_rolling.loc[start:end, :].index, short_rolling.loc[start:end, 'Close Price'], label = '20-days average')\n",
    "\n",
    "ax.legend(loc='best')\n",
    "ax.set_ylabel('Close Price(CNY)')"
   ]
  },
  {
   "cell_type": "markdown",
   "metadata": {},
   "source": [
    "#### Result\n",
    "The blue line is the normal stock closing price. The green line shows the 20-day moving average and the orange line shows 100-day moving average of Bank of China from Jan 1st. 2016 to 2017. The visualization can be changed by modifying the input in stock id, starting date and ending date."
   ]
  },
  {
   "cell_type": "markdown",
   "metadata": {
    "slideshow": {
     "slide_type": "slide"
    }
   },
   "source": [
    "## Conclusions\n",
    "#### Proposed questions\n",
    "- There are 3425 normal trading stocks on the market, 81 segments and 19 major industries, where manufactring occupies more than 60% of the total amount of stocks.\n",
    "- Financial industry relieazed the highest net profit in the first quarter this year.\n",
    "- Other than financial industry, mining industry, transportation, warehousing and postal services maintain the highest market value during the last three years.\n",
    "- The extracted data by mongo query can be used to perform calculation and visualization for further analysis.\n",
    "\n",
    "#### Project conclusion\n",
    "   MongoDB is a very good database system. it helps people storage and extract data efficiently. The main purpose of this project is to help people who need particular stock data getting their needs efficiently in order to do the future analysis based on those data. To make the work easy and efficient, we combine MongpDB and Python to perform the query and data visualization in order to give people nice format of the data and variables. It also will benefit people doing the analysis and visualization in the future work."
   ]
  },
  {
   "cell_type": "markdown",
   "metadata": {
    "slideshow": {
     "slide_type": "slide"
    }
   },
   "source": [
    "## Future Study\n",
    "For future work, we will develop more particular query code which most stock insiders need. Combine with python to build more interactive interface. Those interfaces will allow users to enter the specific information and conditions, and query results as well as some basic analysis or visualizations will be provided."
   ]
  },
  {
   "cell_type": "markdown",
   "metadata": {
    "slideshow": {
     "slide_type": "fragment"
    }
   },
   "source": [
    "## Reference\n",
    "- Time Series Data and MongoDB <br>\n",
    "https://www.mongodb.com/blog/post/time-series-data-and-mongodb-part-2-schema-design-best-practices <br>\n",
    "- Python MongoDB <br>\n",
    "https://www.w3schools.com/python/python_mongodb_getstarted.asp\n",
    "- Aggregation Pipeline Stages <br>\n",
    "https://docs.mongodb.com/manual/reference/operator/aggregation/lookup/\n",
    "- China Security Regulatory Commission Industry Code<br>\n",
    "http://www.daquant.com/help/2-html/html4/2.1.2.html"
   ]
  }
 ],
 "metadata": {
  "kernelspec": {
   "display_name": "Python 3",
   "language": "python",
   "name": "python3"
  },
  "language_info": {
   "codemirror_mode": {
    "name": "ipython",
    "version": 3
   },
   "file_extension": ".py",
   "mimetype": "text/x-python",
   "name": "python",
   "nbconvert_exporter": "python",
   "pygments_lexer": "ipython3",
   "version": "3.6.4"
  }
 },
 "nbformat": 4,
 "nbformat_minor": 2
}
